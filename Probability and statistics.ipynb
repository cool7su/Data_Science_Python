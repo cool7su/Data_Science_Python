{
 "cells": [
  {
   "cell_type": "markdown",
   "metadata": {},
   "source": [
    "# Python Code Examples"
   ]
  },
  {
   "cell_type": "markdown",
   "metadata": {},
   "source": [
    "## Prepare Data"
   ]
  },
  {
   "cell_type": "code",
   "execution_count": 42,
   "metadata": {},
   "outputs": [],
   "source": [
    "import numpy.random as nr\n",
    "nr.seed(12345)\n",
    "\n",
    "data = nr.normal(10, 2, 50) # mean, std, number of entries"
   ]
  },
  {
   "cell_type": "markdown",
   "metadata": {
    "collapsed": true
   },
   "source": [
    "## Confident Interval"
   ]
  },
  {
   "cell_type": "code",
   "execution_count": 43,
   "metadata": {},
   "outputs": [
    {
     "name": "stdout",
     "output_type": "stream",
     "text": [
      "9.896096050337679\n",
      "(9.249011351411818, 10.54318074926354)\n",
      "(9.249011351411818, 10.54318074926354)\n"
     ]
    }
   ],
   "source": [
    "import statsmodels.stats.api as sms\n",
    "alpha = 0.05\n",
    "print(data.mean())\n",
    "#use statsmodel package\n",
    "print(sms.DescrStatsW(data).tconfint_mean(alpha))\n",
    "#use scipy package\n",
    "print(scipy.stats.t.interval(1-alpha, len(data)-1, loc=np.mean(data), scale=scipy.stats.sem(data)))"
   ]
  },
  {
   "cell_type": "markdown",
   "metadata": {},
   "source": [
    "## Manual CI calculation:\n",
    "\n",
    "For T-test, all under t-distribution\n",
    "\n",
    "spipy.stats.t.ppf calculates z-score for x% value below that\n",
    "\n",
    "spipy.stats.t.cdf calculates percentagy value blew x z-sore.\n",
    "\n",
    "For Z test, under normal distribution\n",
    "\n",
    "spipy.stats.norm.ppf spipy.stats.norm.cdf \n",
    "\n",
    "scipy.stats.norm.cdf(1) - 0.5 = 0.3413447460685429\n",
    "means about 34% data is between mean and z-score 1, 0.5 refer to half of the data below mean."
   ]
  },
  {
   "cell_type": "code",
   "execution_count": 44,
   "metadata": {},
   "outputs": [
    {
     "name": "stdout",
     "output_type": "stream",
     "text": [
      "(9.896096050337679, 9.249011351411818, 10.54318074926354)\n",
      "(9.249011351411818, 10.54318074926354)\n"
     ]
    }
   ],
   "source": [
    "import scipy\n",
    "import numpy as np\n",
    "\n",
    "\n",
    "def mean_confidence_interval(data, alpha=0.05):\n",
    "    #Two tailed T test\n",
    "    n = len(data)\n",
    "    #Standard error = std / sqrt(number of sample)\n",
    "    #m, se = np.mean(data), scipy.stats.sem(data)\n",
    "    m, se = np.mean(data), data.std()/np.sqrt(n-1)\n",
    "\n",
    "    #scipy.stats.t.ppf: T-test, Z-score for the edge of area cover % of the area(confidence level)\n",
    "    #alpha/2, each end of distribution has alpha/2 left out, \n",
    "    #distance = Z-score * se\n",
    "    h = se * scipy.stats.t.ppf(1 - alpha/2, n-1) #alpha/2 because half of alpha% data above mean, the other half will be below mean\n",
    "    #print(se, h, scipy.stats.t.ppf((1+confidence)/2., n-1))\n",
    "    return m, m-h, m+h\n",
    "\n",
    "print(mean_confidence_interval(data, 0.05))\n",
    "print(scipy.stats.t.interval(0.95, len(data)-1, loc=np.mean(data), scale=scipy.stats.sem(data)))\n"
   ]
  },
  {
   "cell_type": "markdown",
   "metadata": {},
   "source": [
    "## ppf explained:"
   ]
  },
  {
   "cell_type": "code",
   "execution_count": 45,
   "metadata": {},
   "outputs": [
    {
     "name": "stdout",
     "output_type": "stream",
     "text": [
      "distance away from mean: 1.959963984540054\n"
     ]
    },
    {
     "data": {
      "image/png": "[encoded data removed]",
      "text/plain": [
       "<matplotlib.figure.Figure at 0x7f515ebc3d30>"
      ]
     },
     "metadata": {},
     "output_type": "display_data"
    }
   ],
   "source": [
    "from scipy import stats\n",
    "import numpy as np\n",
    "import matplotlib.pyplot as plt\n",
    "%matplotlib inline\n",
    "\n",
    "sample = nr.normal(size=50000)\n",
    "\n",
    "\n",
    "# calculate a 95% confidence interval. 5% of the probability is outside this, 2.5% in each tail\n",
    "#ci = stats.norm.interval(0.95, 0, 1)\n",
    "\n",
    "#distance of std from mean, we actually calculate using 97.5%, because both side have 2.5% outside\n",
    "h = scipy.stats.norm.ppf((1+0.95)/2) \n",
    "print(\"distance away from mean: %s\" % h)\n",
    "\n",
    "plt.hist(sample, bins=100)\n",
    "# show the hypothesized population mean\n",
    "plt.axvline(sample.mean(), color='yellow', linestyle='dashed', linewidth=2)\n",
    "# show the right-tail confidence interval threshold - 5% of propbability is under the curve to the right of this.\n",
    "plt.axvline(h, color='red', linestyle='dashed', linewidth=2)\n",
    "# show the t-statistic - the p-value is the area under the curve to the right of this\n",
    "\n",
    "\n",
    "plt.show()"
   ]
  },
  {
   "cell_type": "code",
   "execution_count": null,
   "metadata": {},
   "outputs": [],
   "source": []
  }
 ],
 "metadata": {
  "kernelspec": {
   "display_name": "Python 3.6",
   "language": "python",
   "name": "python36"
  },
  "language_info": {
   "codemirror_mode": {
    "name": "ipython",
    "version": 3
   },
   "file_extension": ".py",
   "mimetype": "text/x-python",
   "name": "python",
   "nbconvert_exporter": "python",
   "pygments_lexer": "ipython3",
   "version": "3.6.3"
  }
 },
 "nbformat": 4,
 "nbformat_minor": 2
}
